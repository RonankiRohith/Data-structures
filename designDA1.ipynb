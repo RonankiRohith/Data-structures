{
  "nbformat": 4,
  "nbformat_minor": 0,
  "metadata": {
    "colab": {
      "name": "designDA1.ipynb",
      "provenance": [],
      "collapsed_sections": []
    },
    "kernelspec": {
      "name": "python3",
      "display_name": "Python 3"
    },
    "language_info": {
      "name": "python"
    }
  },
  "cells": [
    {
      "cell_type": "markdown",
      "metadata": {
        "id": "1B2TD7prm6CT"
      },
      "source": [
        " **Assignment 1, \n",
        "Ronanki Rohith - \n",
        "19BBS0165** "
      ]
    },
    {
      "cell_type": "markdown",
      "metadata": {
        "id": "Zccv4LVjGE3O"
      },
      "source": [
        "Implementing Queue"
      ]
    },
    {
      "cell_type": "markdown",
      "metadata": {
        "id": "rknSglGqGsPf"
      },
      "source": [
        "Analysis: The time complexity of queue is O(n) as it depends on the number of elements in the data structure"
      ]
    },
    {
      "cell_type": "code",
      "metadata": {
        "colab": {
          "base_uri": "https://localhost:8080/"
        },
        "id": "phm9E0q6GMC8",
        "outputId": "92a79fe8-2cbe-4632-dc22-b8246f055d1e"
      },
      "source": [
        "class Queue:\n",
        "\tdef __init__(self):\n",
        "\t\tself.s = []\n",
        "\tdef enQueue(self, data):\n",
        "\t\tself.s.append(data)\n",
        "\tdef deQueue(self):\n",
        "\t\tif len(self.s) <= 0:\n",
        "\t\t\tprint('Queue is empty')\n",
        "\t\t\treturn\n",
        "\t\tx = self.s[len(self.s) - 1]\n",
        "\t\tself.s.pop()\n",
        "\t\tif len(self.s) <= 0:\n",
        "\t\t\treturn x\n",
        "\t\titem = self.deQueue()\n",
        "\t\tself.s.append(x)\n",
        "\t\treturn item\n",
        "if __name__ == '__main__':\n",
        "\tq = Queue()\n",
        "\tq.enQueue(1)\n",
        "\tq.enQueue(2)\n",
        "\tq.enQueue(3)\n",
        "\t\n",
        "\tprint(q.deQueue())\n",
        "\tprint(q.deQueue())\n",
        "\tprint(q.deQueue())\n",
        "\t\n",
        "\n"
      ],
      "execution_count": null,
      "outputs": [
        {
          "output_type": "stream",
          "text": [
            "1\n",
            "2\n",
            "3\n"
          ],
          "name": "stdout"
        }
      ]
    },
    {
      "cell_type": "markdown",
      "metadata": {
        "id": "xQorFoCSDuVv"
      },
      "source": [
        "2.Converting infix expression to postfix"
      ]
    },
    {
      "cell_type": "markdown",
      "metadata": {
        "id": "VLN54lGNFDwJ"
      },
      "source": [
        "Analysis: The time complexity of this O(n) same as infix to prefix"
      ]
    },
    {
      "cell_type": "code",
      "metadata": {
        "colab": {
          "base_uri": "https://localhost:8080/"
        },
        "id": "guU6xewjDtZT",
        "outputId": "4b752128-d5c1-4b63-a0dc-f5286de067fb"
      },
      "source": [
        "class Conversion:\n",
        "\tdef __init__(self, capacity):\n",
        "\t\tself.top = -1\n",
        "\t\tself.capacity = capacity\n",
        "\t\tself.array = []\n",
        "\t\tself.output = []\n",
        "\t\tself.precedence = {'+':1, '-':1, '*':2, '/':2, '^':3}\n",
        "\n",
        "\tdef isEmpty(self):\n",
        "\t\treturn True if self.top == -1 else False\n",
        "\tdef peek(self):\n",
        "\t\treturn self.array[-1]\n",
        "\tdef pop(self):\n",
        "\t\tif not self.isEmpty():\n",
        "\t\t\tself.top -= 1\n",
        "\t\t\treturn self.array.pop()\n",
        "\t\telse:\n",
        "\t\t\treturn \"$\"\n",
        "\tdef push(self, op):\n",
        "\t\tself.top += 1\n",
        "\t\tself.array.append(op)\n",
        "\tdef isOperand(self, ch):\n",
        "\t\treturn ch.isalpha()\n",
        "\tdef notGreater(self, i):\n",
        "\t\ttry:\n",
        "\t\t\ta = self.precedence[i]\n",
        "\t\t\tb = self.precedence[self.peek()]\n",
        "\t\t\treturn True if a <= b else False\n",
        "\t\texcept KeyError:\n",
        "\t\t\treturn False\n",
        "\tdef infixToPostfix(self, exp):\n",
        "\t\tfor i in exp:\n",
        "\n",
        "\t\t\tif self.isOperand(i):\n",
        "\t\t\t\tself.output.append(i)\n",
        "\t\t\telif i == '(':\n",
        "\t\t\t\tself.push(i)\n",
        "\t\t\telif i == ')':\n",
        "\t\t\t\twhile( (not self.isEmpty()) and\n",
        "\t\t\t\t\t\t\t\tself.peek() != '('):\n",
        "\t\t\t\t\ta = self.pop()\n",
        "\t\t\t\t\tself.output.append(a)\n",
        "\t\t\t\tif (not self.isEmpty() and self.peek() != '('):\n",
        "\t\t\t\t\treturn -1\n",
        "\t\t\t\telse:\n",
        "\t\t\t\t\tself.pop()\n",
        "\t\t\telse:\n",
        "\t\t\t\twhile(not self.isEmpty() and self.notGreater(i)):\n",
        "\t\t\t\t\tself.output.append(self.pop())\n",
        "\t\t\t\tself.push(i)\n",
        "\n",
        "\t\twhile not self.isEmpty():\n",
        "\t\t\tself.output.append(self.pop())\n",
        "\n",
        "\t\tprint (\"\".join(self.output))\n",
        "\n",
        "exp = \"a+b*(c^d-e)^(f+g*h)-i\"\n",
        "obj = Conversion(len(exp))\n",
        "obj.infixToPostfix(exp)\n"
      ],
      "execution_count": null,
      "outputs": [
        {
          "output_type": "stream",
          "text": [
            "abcd^e-fgh*+^*+i-\n"
          ],
          "name": "stdout"
        }
      ]
    },
    {
      "cell_type": "markdown",
      "metadata": {
        "id": "pxHrvAe1-pba"
      },
      "source": [
        "1. Converting Infix expression to Prefix"
      ]
    },
    {
      "cell_type": "markdown",
      "metadata": {
        "id": "u04LkOsL_A5_"
      },
      "source": [
        "Analysis: The time complexity is O(n) as there is only one loop"
      ]
    },
    {
      "cell_type": "code",
      "metadata": {
        "colab": {
          "base_uri": "https://localhost:8080/"
        },
        "id": "yhIOmbWr-_iv",
        "outputId": "22fee347-b63c-4c36-d466-57743a132891"
      },
      "source": [
        "class infix_to_prefix:\n",
        "    precedence={'^':5,'*':4,'/':4,'+':3,'-':3,'(':2,')':1}\n",
        "    def __init__(self):\n",
        "        self.items=[]\n",
        "        self.size=-1\n",
        "    def push(self,value):\n",
        "        self.items.append(value)\n",
        "        self.size+=1\n",
        "    def pop(self):\n",
        "        if self.isempty():\n",
        "            return 0\n",
        "        else:\n",
        "            self.size-=1\n",
        "            return self.items.pop()\n",
        "    def isempty(self):\n",
        "        if(self.size==-1):\n",
        "            return True\n",
        "        else:\n",
        "            return False\n",
        "    def seek(self):\n",
        "        if self.isempty():\n",
        "            return False\n",
        "        else:\n",
        "            return self.items[self.size]\n",
        "    def is0perand(self,i):\n",
        "        if i.isalpha() or i in '1234567890':\n",
        "            return True\n",
        "        else:\n",
        "            return False\n",
        "    def reverse(self,expr):\n",
        "        rev=\"\"\n",
        "        for i in expr:\n",
        "            if i is '(':\n",
        "                i=')'\n",
        "            elif i is ')':\n",
        "                i='('\n",
        "            rev=i+rev\n",
        "        return rev\n",
        "    def infixtoprefix (self,expr):\n",
        "        prefix=\"\"\n",
        "        print('prefix expression after every iteration is:')\n",
        "        for i in expr:\n",
        "            if(len(expr)%2==0):\n",
        "                print(\"Incorrect infix expr\")\n",
        "                return False\n",
        "            elif(self.is0perand(i)):\n",
        "                prefix +=i\n",
        "            elif(i in '+-*/^'):\n",
        "                while(len(self.items)and self.precedence[i] < self.precedence[self.seek()]):\n",
        "                    prefix+=self.pop()\n",
        "                self.push(i)\n",
        "            elif i is '(':\n",
        "                self.push(i)\n",
        "            elif i is ')':\n",
        "                o=self.pop()\n",
        "                while o!='(':\n",
        "                    prefix +=o\n",
        "                    o=self.pop()\n",
        "            print(prefix)\n",
        "                #end of for\n",
        "        while len(self.items):\n",
        "            if(self.seek()=='('):\n",
        "                self.pop()\n",
        "            else:\n",
        "                prefix+=self.pop()\n",
        "                print(prefix)\n",
        "        return prefix\n",
        "s=infix_to_prefix()\n",
        "expr=input('enter the expression ')\n",
        "rev=\"\"\n",
        "rev=s.reverse(expr)\n",
        "#print(rev)\n",
        "result=s.infixtoprefix(rev)\n",
        "if (result!=False):\n",
        "    \n",
        "    prefix=s.reverse(result)\n",
        "    print(\"the prefix expr of :\",expr,\"is\",prefix)\n"
      ],
      "execution_count": null,
      "outputs": [
        {
          "output_type": "stream",
          "text": [
            "enter the expression C+A+(T+R)^S\n",
            "prefix expression after every iteration is:\n",
            "S\n",
            "S\n",
            "S\n",
            "SR\n",
            "SR\n",
            "SRT\n",
            "SRT+\n",
            "SRT+^\n",
            "SRT+^A\n",
            "SRT+^A\n",
            "SRT+^AC\n",
            "SRT+^AC+\n",
            "SRT+^AC++\n",
            "the prefix expr of : C+A+(T+R)^S is ++CA^+TRS\n"
          ],
          "name": "stdout"
        }
      ]
    },
    {
      "cell_type": "markdown",
      "metadata": {
        "id": "nkpea9DWiJgO"
      },
      "source": [
        "2.Binary Search"
      ]
    },
    {
      "cell_type": "markdown",
      "metadata": {
        "id": "APkRV4Zw9FSY"
      },
      "source": [
        "Analysis: The time complexity of the Binary Search Algrithm is given as T(n) = T(n/2) + c OR θ(log(n))\n"
      ]
    },
    {
      "cell_type": "code",
      "metadata": {
        "colab": {
          "base_uri": "https://localhost:8080/"
        },
        "id": "EiRCCIcsiUg2",
        "outputId": "d17c2684-36cf-4f1f-e6c0-579aebbc8811"
      },
      "source": [
        "def binarySearch (arr, l, r, x):\n",
        "    if r >= l:\n",
        "        mid = l + (r - l) // 2\n",
        "        if arr[mid] == x:\n",
        "            return mid\n",
        "        elif arr[mid] > x:\n",
        "            return binarySearch(arr, l, mid-1, x)\n",
        "        else:\n",
        "            return binarySearch(arr, mid + 1, r, x)\n",
        "    else:\n",
        "        return -1\n",
        "arr = [ 12, 33, 4, 10, 40 ]\n",
        "x = 10\n",
        "result = binarySearch(arr, 0, len(arr)-1, x)\n",
        "  \n",
        "if result != -1:\n",
        "    print (\"Element is available at index % d\" % result)\n",
        "else:\n",
        "    print (\"Element is not available in array\")"
      ],
      "execution_count": null,
      "outputs": [
        {
          "output_type": "stream",
          "text": [
            "Element is available at index  3\n"
          ],
          "name": "stdout"
        }
      ]
    },
    {
      "cell_type": "markdown",
      "metadata": {
        "id": "GZXKK_69fm8x"
      },
      "source": [
        "1.Linear Search"
      ]
    },
    {
      "cell_type": "markdown",
      "metadata": {
        "id": "Mmz5gl0381VK"
      },
      "source": [
        "Analysis: The time complexity of the Linear Search algorithm is O(n) and the n elements are searched through one\n",
        "by one."
      ]
    },
    {
      "cell_type": "code",
      "metadata": {
        "colab": {
          "base_uri": "https://localhost:8080/"
        },
        "id": "CFduYtADf7U-",
        "outputId": "099be029-934e-44fb-f3cd-e897b5c62307"
      },
      "source": [
        "def search(arr, n, x):\n",
        " \n",
        "    for i in range(0, n):\n",
        "        if (arr[i] == x):\n",
        "            return i\n",
        "    return -1\n",
        "arr = [68, 29, 56, 82, 92, 10, 70]\n",
        "x = 10\n",
        "n = len(arr)\n",
        "result = search(arr, n, x)\n",
        "if(result == -1):\n",
        "    print(\"Element is not available in array\")\n",
        "else:\n",
        "    print(\"Element is available at index\", result)"
      ],
      "execution_count": null,
      "outputs": [
        {
          "output_type": "stream",
          "text": [
            "Element is available at index 5\n"
          ],
          "name": "stdout"
        }
      ]
    },
    {
      "cell_type": "markdown",
      "metadata": {
        "id": "Br6vJpFURtfq"
      },
      "source": [
        "5.Merge Sorting"
      ]
    },
    {
      "cell_type": "markdown",
      "metadata": {
        "id": "GyP1PGWB8rIn"
      },
      "source": [
        "Analysis:\n",
        "Best case - Ω(n log(n)) Avg case - θ(n log(n)) Worst case - O(n log(n)) In this algorithm because it\n",
        "is divided and sorted into two halves and combined again it has a logarithmic time complexity"
      ]
    },
    {
      "cell_type": "code",
      "metadata": {
        "colab": {
          "base_uri": "https://localhost:8080/"
        },
        "id": "9U-hbqTWRznG",
        "outputId": "c7ca06d8-9cad-47d6-86c2-50cd5e2aa179"
      },
      "source": [
        "def mergeSorting(arr):\n",
        "    if len(arr) > 1:\n",
        "        mid = len(arr)//2\n",
        "        L = arr[:mid]\n",
        "        R = arr[mid:]\n",
        "        mergeSorting(L)\n",
        "        mergeSorting(R)\n",
        "        i = j = k = 0\n",
        "        while i < len(L) and j < len(R):\n",
        "            if L[i] < R[j]:\n",
        "                arr[k] = L[i]\n",
        "                i += 1\n",
        "            else:\n",
        "                arr[k] = R[j]\n",
        "                j += 1\n",
        "            k += 1\n",
        "        while i < len(L):\n",
        "            arr[k] = L[i]\n",
        "            i += 1\n",
        "            k += 1\n",
        "        while j < len(R):\n",
        "            arr[k] = R[j]\n",
        "            j += 1\n",
        "            k += 1\n",
        "def printList(arr):\n",
        "    for i in range(len(arr)):\n",
        "        print(arr[i], end=\" \")\n",
        "    print()\n",
        "if __name__ == '__main__':\n",
        "    arr = [68, 29, 56, 82, 92, 10, 70]\n",
        "    mergeSorting(arr)\n",
        "    print(\"Array Sorted is: \", end=\"\\n\")\n",
        "    printList(arr)"
      ],
      "execution_count": null,
      "outputs": [
        {
          "output_type": "stream",
          "text": [
            "Array Sorted is: \n",
            "10 29 56 68 70 82 92 \n"
          ],
          "name": "stdout"
        }
      ]
    },
    {
      "cell_type": "markdown",
      "metadata": {
        "id": "2ws1eUfFGjHy"
      },
      "source": [
        "4.Quick Sorting"
      ]
    },
    {
      "cell_type": "markdown",
      "metadata": {
        "id": "aN2QYEbk8d1C"
      },
      "source": [
        "Analysis: Best case - Ω(n log(n)) Avg case - θ(n log(n)) Worst case - O(n^2) The worst case has\n",
        "quadratic time complexity as it involves two loops while the best and average cases have\n",
        "logarithmic time complecity because of dividing the data into parts using pivot values."
      ]
    },
    {
      "cell_type": "code",
      "metadata": {
        "colab": {
          "base_uri": "https://localhost:8080/"
        },
        "id": "HEPuTDuwGqt5",
        "outputId": "8109da16-4583-43a5-9fd2-722c45f1e5f2"
      },
      "source": [
        "def partition(start, end, array):\n",
        "    pivot_index = start\n",
        "    pivot = array[pivot_index]\n",
        "     \n",
        "    while start < end:\n",
        "        while start < len(array) and array[start] <= pivot:\n",
        "            start += 1\n",
        "        while array[end] > pivot:\n",
        "            end -= 1\n",
        "        if(start < end):\n",
        "            array[start], array[end] = array[end], array[start]\n",
        "    array[end], array[pivot_index] = array[pivot_index], array[end]\n",
        "    return end\n",
        " \n",
        "def quicksorting(start, end, array):\n",
        "     \n",
        "    if (start < end):\n",
        "        p = partition(start, end, array)\n",
        "        quicksorting(start, p - 1, array)\n",
        "        quicksorting(p + 1, end, array)\n",
        "array = [ 68, 29, 56, 82, 92, 10, 70 ]\n",
        "quicksorting(0, len(array) - 1, array)\n",
        " \n",
        "print(f'the array Sorted is : {array}')"
      ],
      "execution_count": null,
      "outputs": [
        {
          "output_type": "stream",
          "text": [
            "the array Sorted is : [10, 29, 56, 68, 70, 82, 92]\n"
          ],
          "name": "stdout"
        }
      ]
    },
    {
      "cell_type": "markdown",
      "metadata": {
        "id": "vahjwqvOFPbr"
      },
      "source": [
        "3.Insertion Sorting"
      ]
    },
    {
      "cell_type": "markdown",
      "metadata": {
        "id": "U4RUVYyq8OyV"
      },
      "source": [
        "Analysis:\n",
        "Best case - Ω(n) Avg case - θ(n^2) Worst case - O(n^2) \n",
        "The two loops makes the worst case time\n",
        "as qudratic time & the best case is in linear time frame."
      ]
    },
    {
      "cell_type": "code",
      "metadata": {
        "colab": {
          "base_uri": "https://localhost:8080/"
        },
        "id": "OdoobBlTFDXq",
        "outputId": "bed100e5-e35b-4d42-f29c-9d9e7e0729e6"
      },
      "source": [
        "def insertionSorting(arr):\n",
        "    for i in range(1, len(arr)):\n",
        " \n",
        "        key = arr[i]\n",
        "        j = i-1\n",
        "        while j >= 0 and key < arr[j] :\n",
        "                arr[j + 1] = arr[j]\n",
        "                j -= 1\n",
        "        arr[j + 1] = key\n",
        " \n",
        "arr = [68, 29, 56, 82, 92, 10, 70]\n",
        "insertionSorting(arr)\n",
        "print (\"Array Sorted is:\")\n",
        "for i in range(len(arr)):\n",
        "    print ( \"% d\" % arr[i])"
      ],
      "execution_count": null,
      "outputs": [
        {
          "output_type": "stream",
          "text": [
            "Array Sorted is:\n",
            " 10\n",
            " 29\n",
            " 56\n",
            " 68\n",
            " 70\n",
            " 82\n",
            " 92\n"
          ],
          "name": "stdout"
        }
      ]
    },
    {
      "cell_type": "markdown",
      "metadata": {
        "id": "9maQImUG8inN"
      },
      "source": [
        "2. Selection Sorting"
      ]
    },
    {
      "cell_type": "markdown",
      "metadata": {
        "id": "d5B8NYJm7-0T"
      },
      "source": [
        "Analysis:\n",
        "Best case - Ω(n^2)\n",
        "Avg case - θ(n^2)\n",
        "Worst case - O(n^2) As there are two nested loops & time complexity will be in quadratic form"
      ]
    },
    {
      "cell_type": "code",
      "metadata": {
        "colab": {
          "base_uri": "https://localhost:8080/"
        },
        "id": "qcM4yIjK9POa",
        "outputId": "63dea1b7-b2ce-480e-ea2f-e1f02fe4f067"
      },
      "source": [
        "import sys\n",
        "A = [68, 29, 56, 82, 92, 10, 70]\n",
        "for i in range(len(A)):\n",
        "     \n",
        "    min_idx = i\n",
        "    for j in range(i+1, len(A)):\n",
        "        if A[min_idx] > A[j]:\n",
        "            min_idx = j\n",
        "                   \n",
        "    A[i], A[min_idx] = A[min_idx], A[i]\n",
        " \n",
        "print (\"Array Sorted is:\")\n",
        "for i in range(len(A)):\n",
        "    print(\"%d\" %A[i])"
      ],
      "execution_count": null,
      "outputs": [
        {
          "output_type": "stream",
          "text": [
            "Array Sorted is:\n",
            "10\n",
            "29\n",
            "56\n",
            "68\n",
            "70\n",
            "82\n",
            "92\n"
          ],
          "name": "stdout"
        }
      ]
    },
    {
      "cell_type": "markdown",
      "metadata": {
        "id": "7J8fY-jK94VG"
      },
      "source": [
        "1.Bubble Sorting"
      ]
    },
    {
      "cell_type": "markdown",
      "metadata": {
        "id": "7I8hXU2f7i5K"
      },
      "source": [
        "Analysis:\n",
        "Best case - Ω(n) \n",
        "Avg case - θ(n^2) \n",
        "Worst case - O(n^2) \n",
        "the two loops & the time complexity will be in quadratic form while the best case which is sorted order will be in linear time."
      ]
    },
    {
      "cell_type": "code",
      "metadata": {
        "colab": {
          "base_uri": "https://localhost:8080/"
        },
        "id": "4HROraz393Pf",
        "outputId": "77b82e4b-2a95-4328-8eca-ba395148b490"
      },
      "source": [
        "def bubbleSorting(arr):\n",
        "\tn = len(arr)\n",
        "\tfor i in range(n):\n",
        "\t\tfor j in range(0, n-i-1):\n",
        "\t\t\tif arr[j] > arr[j+1]: \n",
        "\t\t\t\tarr[j], arr[j+1] = arr[j+1], arr[j]\n",
        "\n",
        "arr = [68, 29, 56, 82, 92, 10, 70]\n",
        "bubbleSorting(arr)\n",
        "\n",
        "print (\"Array sorted is:\")\n",
        "for i in range(len(arr)):\n",
        "\tprint (\"%d\" %arr[i])"
      ],
      "execution_count": null,
      "outputs": [
        {
          "output_type": "stream",
          "text": [
            "Array sorted is:\n",
            "10\n",
            "29\n",
            "56\n",
            "68\n",
            "70\n",
            "82\n",
            "92\n"
          ],
          "name": "stdout"
        }
      ]
    },
    {
      "cell_type": "markdown",
      "metadata": {
        "id": "T5zpreh7I7QN"
      },
      "source": [
        "Insertion in Linked List"
      ]
    },
    {
      "cell_type": "markdown",
      "metadata": {
        "id": "HazZlgtpItgZ"
      },
      "source": [
        "Analysis: In a single linked list, the time complexity for inserting an element from the list is O(n)"
      ]
    },
    {
      "cell_type": "code",
      "metadata": {
        "colab": {
          "base_uri": "https://localhost:8080/"
        },
        "id": "T4s-Nk71ItG5",
        "outputId": "eda563f7-3131-4623-d6c1-56dcde35f908"
      },
      "source": [
        "class Node:\n",
        "   def __init__(self, dataval=None):\n",
        "      self.dataval = dataval\n",
        "      self.nextval = None\n",
        "class SLinkedList:\n",
        "   def __init__(self):\n",
        "      self.headval = None\n",
        "   def AtEnd(self, newdata):\n",
        "      NewNode = Node(newdata)\n",
        "      if self.headval is None:\n",
        "         self.headval = NewNode\n",
        "         return\n",
        "      laste = self.headval\n",
        "      while(laste.nextval):\n",
        "         laste = laste.nextval\n",
        "      laste.nextval=NewNode\n",
        "   def listprint(self):\n",
        "      printval = self.headval\n",
        "      while printval is not None:\n",
        "         print (printval.dataval)\n",
        "         printval = printval.nextval\n",
        "\n",
        "list = SLinkedList()\n",
        "list.headval = Node(\"Mon\")\n",
        "e2 = Node(\"Tue\")\n",
        "e3 = Node(\"Wed\")\n",
        "\n",
        "list.headval.nextval = e2\n",
        "e2.nextval = e3\n",
        "\n",
        "list.AtEnd(\"Thu\")\n",
        "\n",
        "list.listprint()"
      ],
      "execution_count": null,
      "outputs": [
        {
          "output_type": "stream",
          "text": [
            "Mon\n",
            "Tue\n",
            "Wed\n",
            "Thu\n"
          ],
          "name": "stdout"
        }
      ]
    },
    {
      "cell_type": "markdown",
      "metadata": {
        "id": "53Rl-DwSIm_u"
      },
      "source": [
        "Traversal of Linked List"
      ]
    },
    {
      "cell_type": "markdown",
      "metadata": {
        "id": "Pzr_haPsImd4"
      },
      "source": [
        "Analysis: In terms of time complexity searching takes O(n) if index of element is not known whereas if it's known than it is O(n) for linked list."
      ]
    },
    {
      "cell_type": "code",
      "metadata": {
        "colab": {
          "base_uri": "https://localhost:8080/"
        },
        "id": "lgIulrbhIo6t",
        "outputId": "e7284999-0a0e-4ab9-8950-7ecefe3d2fc3"
      },
      "source": [
        "class Node:\n",
        "   def __init__(self, dataval=None):\n",
        "      self.dataval = dataval\n",
        "      self.nextval = None\n",
        "\n",
        "class SLinkedList:\n",
        "   def __init__(self):\n",
        "      self.headval = None\n",
        "\n",
        "   def listprint(self):\n",
        "      printval = self.headval\n",
        "      while printval is not None:\n",
        "         print (printval.dataval)\n",
        "         printval = printval.nextval\n",
        "\n",
        "list = SLinkedList()\n",
        "list.headval = Node(\"Mon\")\n",
        "e2 = Node(\"Tue\")\n",
        "e3 = Node(\"Wed\")\n",
        "\n",
        "list.headval.nextval = e2\n",
        "\n",
        "e2.nextval = e3\n",
        "\n",
        "list.listprint()"
      ],
      "execution_count": null,
      "outputs": [
        {
          "output_type": "stream",
          "text": [
            "Mon\n",
            "Tue\n",
            "Wed\n"
          ],
          "name": "stdout"
        }
      ]
    },
    {
      "cell_type": "markdown",
      "metadata": {
        "id": "BJC1t3A9Ijog"
      },
      "source": [
        "Removal in Linked List"
      ]
    },
    {
      "cell_type": "markdown",
      "metadata": {
        "id": "IqeshJGOIfLk"
      },
      "source": [
        "Analysis: In case of element deletion the time complexity for an linked list is just O(n)."
      ]
    },
    {
      "cell_type": "code",
      "metadata": {
        "id": "itGABlt1IfjV"
      },
      "source": [
        "class Node:\n",
        "   def __init__(self, data=None):\n",
        "      self.data = data\n",
        "      self.next = None\n",
        "class SLinkedList:\n",
        "   def __init__(self):\n",
        "      self.head = None\n",
        "\n",
        "   def Atbegining(self, data_in):\n",
        "      NewNode = Node(data_in)\n",
        "      NewNode.next = self.head\n",
        "      self.head = NewNode\n",
        "\n",
        "   def RemoveNode(self, Removekey):\n",
        "      HeadVal = self.head\n",
        "         \n",
        "      if (HeadVal is not None):\n",
        "         if (HeadVal.data == Removekey):\n",
        "            self.head = HeadVal.next\n",
        "            HeadVal = None\n",
        "            return\n",
        "      while (HeadVal is not None):\n",
        "         if HeadVal.data == Removekey:\n",
        "            break\n",
        "         prev = HeadVal\n",
        "         HeadVal = HeadVal.next\n",
        "\n",
        "      if (HeadVal == None):\n",
        "         return\n",
        "\n",
        "      prev.next = HeadVal.next\n",
        "      HeadVal = None\n",
        "\n",
        "   def LListprint(self):\n",
        "      printval = self.head\n",
        "      while (printval):\n",
        "         print(printval.data),\n",
        "         printval = printval.next\n",
        "\n",
        "llist = SLinkedList()\n",
        "llist.Atbegining(\"Mon\")\n",
        "llist.Atbegining(\"Tue\")\n",
        "llist.Atbegining(\"Wed\")\n",
        "llist.Atbegining(\"Thu\")\n",
        "llist.RemoveNode(\"Tue\")\n",
        "llist.LListprint()"
      ],
      "execution_count": null,
      "outputs": []
    },
    {
      "cell_type": "markdown",
      "metadata": {
        "id": "iYejT4uELHrU"
      },
      "source": [
        " Doubly Linked Lists insertion methods"
      ]
    },
    {
      "cell_type": "markdown",
      "metadata": {
        "id": "bOYETa26LK4I"
      },
      "source": [
        "Analysis: Inserting based on the value - like inserting in a sorted list - will be O(n). If inserting after or before an existing known node is O(1).\n",
        "\n",
        "Inserting to the head or tail of the list will always be O(1) - because these are special cases"
      ]
    },
    {
      "cell_type": "code",
      "metadata": {
        "colab": {
          "base_uri": "https://localhost:8080/"
        },
        "id": "ne2zBHSZLKHJ",
        "outputId": "46030d84-c216-4dc8-91dc-73f61f51efd5"
      },
      "source": [
        "class Node:\n",
        "\tdef __init__(self, data):\n",
        "\t\tself.data = data\n",
        "\t\tself.next = None\n",
        "\t\tself.prev = None\n",
        "class DoublyLinkedList:\n",
        "\tdef __init__(self):\n",
        "\t\tself.head = None\n",
        "\tdef push(self, new_data):\n",
        "\n",
        "\t\tnew_node = Node(new_data)\n",
        "\t\tnew_node.next = self.head\n",
        "\t\tif self.head is not None:\n",
        "\t\t\tself.head.prev = new_node\n",
        "\t\tself.head = new_node\n",
        "\tdef insertAfter(self, prev_node, new_data):\n",
        "\t\tif prev_node is None:\n",
        "\t\t\tprint (\"the given previous node cannot be NULL\")\n",
        "\t\t\treturn\n",
        "\t\tnew_node = Node(new_data)\n",
        "\t\tnew_node.next = prev_node.next\n",
        "\t\tprev_node.next = new_node\n",
        "\t\tnew_node.prev = prev_node\n",
        "\t\tif new_node.next:\n",
        "\t\t\tnew_node.next.prev = new_node\n",
        "\tdef append(self, new_data):\n",
        "\t\tnew_node = Node(new_data)\n",
        "\t\tif self.head is None:\n",
        "\t\t\tself.head = new_node\n",
        "\t\t\treturn\n",
        "\t\tlast = self.head\n",
        "\t\twhile last.next:\n",
        "\t\t\tlast = last.next\n",
        "\t\tlast.next = new_node\n",
        "\t\tnew_node.prev = last\n",
        "\n",
        "\t\treturn\n",
        "\tdef printList(self, node):\n",
        "\n",
        "\t\tprint (\"\\nTraversal in forward direction\")\n",
        "\t\twhile node:\n",
        "\t\t\tprint (\" % d\" % (node.data)),\n",
        "\t\t\tlast = node\n",
        "\t\t\tnode = node.next\n",
        "\n",
        "\t\tprint (\"\\nTraversal in reverse direction\")\n",
        "\t\twhile last:\n",
        "\t\t\tprint (\" % d\" % (last.data)),\n",
        "\t\t\tlast = last.prev\n",
        "\n",
        "llist = DoublyLinkedList()\n",
        "llist.append(6)\n",
        "llist.push(7)\n",
        "llist.push(1)\n",
        "llist.append(4)\n",
        "llist.insertAfter(llist.head.next, 8)\n",
        "\n",
        "print (\"Created DLL is: \"),\n",
        "llist.printList(llist.head)\n",
        "\n"
      ],
      "execution_count": null,
      "outputs": [
        {
          "output_type": "stream",
          "text": [
            "Created DLL is: \n",
            "\n",
            "Traversal in forward direction\n",
            "  1\n",
            "  7\n",
            "  8\n",
            "  6\n",
            "  4\n",
            "\n",
            "Traversal in reverse direction\n",
            "  4\n",
            "  6\n",
            "  8\n",
            "  7\n",
            "  1\n"
          ],
          "name": "stdout"
        }
      ]
    },
    {
      "cell_type": "markdown",
      "metadata": {
        "id": "oBr-YPVvMYpj"
      },
      "source": [
        "Delete a node in a Doubly Linked List"
      ]
    },
    {
      "cell_type": "markdown",
      "metadata": {
        "id": "vQa0610KMWo-"
      },
      "source": [
        "Analysis: Deleting an arbitrary value (rather than a node) will be O(n) as the value needs to be found. Deleting a node (when the node position is known) is O(1)."
      ]
    },
    {
      "cell_type": "code",
      "metadata": {
        "colab": {
          "base_uri": "https://localhost:8080/"
        },
        "id": "khalwpd1MaOl",
        "outputId": "e48f6f69-954f-40d9-affb-898975527c58"
      },
      "source": [
        "import gc\n",
        "class Node:\n",
        "\tdef __init__(self, data):\n",
        "\t\tself.data = data\n",
        "\t\tself.next = None\n",
        "\t\tself.prev = None\n",
        "\n",
        "class DoublyLinkedList:\n",
        "\tdef __init__(self):\n",
        "\t\tself.head = None\n",
        "\n",
        "\tdef deleteNode(self, dele):\n",
        "\t\tif self.head is None or dele is None:\n",
        "\t\t\treturn\n",
        "\t\tif self.head == dele:\n",
        "\t\t\tself.head = dele.next\n",
        "\t\tif dele.next is not None:\n",
        "\t\t\tdele.next.prev = dele.prev\n",
        "\t\tif dele.prev is not None:\n",
        "\t\t\tdele.prev.next = dele.next\n",
        "\t\tgc.collect()\n",
        "\tdef push(self, new_data):\n",
        "\t\tnew_node = Node(new_data)\n",
        "\t\tnew_node.next = self.head\n",
        "\t\tif self.head is not None:\n",
        "\t\t\tself.head.prev = new_node\n",
        "\t\tself.head = new_node\n",
        "\tdef printList(self, node):\n",
        "\t\twhile(node is not None):\n",
        "\t\t\tprint (node.data),\n",
        "\t\t\tnode = node.next\n",
        "dll = DoublyLinkedList()\n",
        "dll.push(2);\n",
        "dll.push(4);\n",
        "dll.push(8);\n",
        "dll.push(10);\n",
        "\n",
        "print (\"\\n Original Linked List\"),\n",
        "dll.printList(dll.head)\n",
        "dll.deleteNode(dll.head)\n",
        "dll.deleteNode(dll.head.next)\n",
        "dll.deleteNode(dll.head.next)\n",
        "print (\"\\n Modified Linked List\"),\n",
        "dll.printList(dll.head)\n",
        "\n"
      ],
      "execution_count": null,
      "outputs": [
        {
          "output_type": "stream",
          "text": [
            "\n",
            " Original Linked List\n",
            "10\n",
            "8\n",
            "4\n",
            "2\n",
            "\n",
            " Modified Linked List\n",
            "8\n"
          ],
          "name": "stdout"
        }
      ]
    }
  ]
}